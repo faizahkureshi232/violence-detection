{
 "cells": [
  {
   "cell_type": "code",
   "execution_count": 1,
   "metadata": {},
   "outputs": [
    {
     "name": "stdout",
     "output_type": "stream",
     "text": [
      "macOS-13.4.1-arm64-arm-64bit\n"
     ]
    }
   ],
   "source": [
    "import os\n",
    "import platform\n",
    "from IPython.display import clear_output\n",
    "print(platform.platform())\n",
    "\n",
    "def resolve_dir(Dir):\n",
    "    if not os.path.exists(Dir):\n",
    "        os.mkdir(Dir)\n",
    "\n",
    "def reset_path(Dir):\n",
    "    if not os.path.exists(Dir):\n",
    "        os.mkdir(Dir)\n",
    "    else:\n",
    "        os.system('rm -f {}/*'.format( Dir))"
   ]
  },
  {
   "cell_type": "code",
   "execution_count": 2,
   "metadata": {},
   "outputs": [],
   "source": [
    "import cv2\n",
    "import os\n",
    "import imageio\n",
    "import imgaug.augmenters as iaa\n",
    "import imgaug as ia\n",
    "\n",
    "IMG_SIZE = 128\n",
    "ColorChannels = 3\n",
    "\n",
    "def video_to_frames(video):\n",
    "    vidcap = cv2.VideoCapture(video)\n",
    "    \n",
    "    import math\n",
    "    rate = math.floor(vidcap.get(3))\n",
    "    count = 0\n",
    "    \n",
    "    ImageFrames = []\n",
    "    while vidcap.isOpened():\n",
    "        ID = vidcap.get(1)\n",
    "        success, image = vidcap.read()\n",
    "        \n",
    "        if success:\n",
    "            if (ID % 7 == 0):\n",
    "                flip = iaa.Fliplr(1.0)\n",
    "                zoom = iaa.Affine(scale=1.3)\n",
    "                random_brightness = iaa.Multiply((1, 1.3))\n",
    "                rotate = iaa.Affine(rotate=(-25, 25))\n",
    "                \n",
    "                image_aug = flip(image = image)\n",
    "                image_aug = random_brightness(image = image_aug)\n",
    "                image_aug = zoom(image = image_aug)\n",
    "                image_aug = rotate(image = image_aug)\n",
    "                \n",
    "                rgb_img = cv2.cvtColor(image_aug, cv2.COLOR_BGR2RGB)\n",
    "                resized = cv2.resize(rgb_img, (IMG_SIZE, IMG_SIZE))\n",
    "                ImageFrames.append(resized)\n",
    "            count+=1\n",
    "        else:\n",
    "            break\n",
    "    \n",
    "    vidcap.release()\n",
    "    \n",
    "    return ImageFrames"
   ]
  },
  {
   "cell_type": "code",
   "execution_count": 4,
   "metadata": {},
   "outputs": [
    {
     "name": "stdout",
     "output_type": "stream",
     "text": [
      "we have \n",
      "1000 Violence videos \n",
      "1000 NonViolence videos\n"
     ]
    }
   ],
   "source": [
    "print('we have \\n{} Violence videos \\n{} NonViolence videos'.format(\n",
    "              len(os.listdir('/Users/faizahkureshi/Desktop/GAIP Project/violencedataset/NonViolence')), \n",
    "              len(os.listdir('/Users/faizahkureshi/Desktop/GAIP Project/violencedataset/NonViolence'))))"
   ]
  },
  {
   "cell_type": "code",
   "execution_count": 5,
   "metadata": {},
   "outputs": [
    {
     "name": "stdout",
     "output_type": "stream",
     "text": [
      "zsh:1: command not found: nvidia-smi\n",
      "Tensorflow version 2.13.0-rc2\n"
     ]
    }
   ],
   "source": [
    "import tensorflow as tf\n",
    "tf.random.set_seed(73)\n",
    "TPU_INIT = False\n",
    "\n",
    "if TPU_INIT:\n",
    "    try:\n",
    "        tpu = tf.distribute.cluster_resolver.TPUClusterResolver.connect()\n",
    "        tpu_strategy = tf.distribute.experimental.TPUStrategy(tpu)\n",
    "    \n",
    "    except ValueError:\n",
    "        raise BaseException('ERROR: Not connected to a TPU runtime!')\n",
    "else:\n",
    "    !nvidia-smi\n",
    ";    \n",
    "print(\"Tensorflow version \" + tf.__version__)"
   ]
  },
  {
   "cell_type": "code",
   "execution_count": 6,
   "metadata": {},
   "outputs": [
    {
     "name": "stdout",
     "output_type": "stream",
     "text": [
      "we have \n",
      "1000 Violence videos \n",
      "1000 NonViolence videos\n"
     ]
    },
    {
     "name": "stderr",
     "output_type": "stream",
     "text": [
      "100%|██████████| 350/350 [00:18<00:00, 18.80it/s]\n",
      "100%|██████████| 350/350 [00:45<00:00,  7.61it/s]"
     ]
    },
    {
     "name": "stdout",
     "output_type": "stream",
     "text": [
      "CPU times: user 2min 44s, sys: 5.14 s, total: 2min 49s\n",
      "Wall time: 1min 4s\n"
     ]
    },
    {
     "name": "stderr",
     "output_type": "stream",
     "text": [
      "\n"
     ]
    }
   ],
   "source": [
    "%%time\n",
    "#tqdm is used here to visulaize the progress of dataset creation\n",
    "from tqdm import tqdm\n",
    "\n",
    "VideoDataDir ='/Users/faizahkureshi/Desktop/GAIP Project/violencedataset'\n",
    "print('we have \\n{} Violence videos \\n{} NonViolence videos'.format(\n",
    "              len(os.listdir('/Users/faizahkureshi/Desktop/GAIP Project/violencedataset/NonViolence')), \n",
    "              len(os.listdir('/Users/faizahkureshi/Desktop/GAIP Project/violencedataset/NonViolence'))))\n",
    "\n",
    "X_original = []\n",
    "y_original = []\n",
    "CLASSES = [\"NonViolence\", \"Violence\"]\n",
    "\n",
    "for category in os.listdir(VideoDataDir):\n",
    "    category_path = os.path.join(VideoDataDir, category)\n",
    "    if os.path.isdir(category_path):\n",
    "        class_num = CLASSES.index(category)\n",
    "        try:\n",
    "            video_list = [video for video in os.listdir(category_path)[:350] if video != '.DS_Store']\n",
    "            for i, video in enumerate(tqdm(video_list)):\n",
    "                video_path = os.path.join(category_path, video)\n",
    "                frames = video_to_frames(video_path)\n",
    "                for j, frame in enumerate(frames):\n",
    "                    X_original.append(frame)\n",
    "                    y_original.append(class_num)\n",
    "        except OSError as e:\n",
    "            print(f\"Error processing directory: {category_path}. Skipping...\")\n",
    "            continue\n",
    "\n"
   ]
  },
  {
   "cell_type": "code",
   "execution_count": 7,
   "metadata": {},
   "outputs": [
    {
     "data": {
      "text/plain": [
       "13487"
      ]
     },
     "execution_count": 7,
     "metadata": {},
     "output_type": "execute_result"
    }
   ],
   "source": [
    "import numpy as np\n",
    "X_original = np.array(X_original).reshape(-1 , IMG_SIZE * IMG_SIZE * 3)\n",
    "y_original = np.array(y_original)\n",
    "len(X_original)"
   ]
  },
  {
   "cell_type": "code",
   "execution_count": null,
   "metadata": {},
   "outputs": [],
   "source": [
    "from sklearn.model_selection import StratifiedShuffleSplit\n",
    "\n",
    "stratified_sample = StratifiedShuffleSplit(n_splits=2, test_size=0.3, random_state=73)\n",
    "\n",
    "for train_index, test_index in stratified_sample.split(X_original, y_original):\n",
    "    X_train, X_test = X_original[train_index], X_original[test_index]\n",
    "    y_train, y_test = y_original[train_index], y_original[test_index]\n",
    "\n",
    "X_train_nn = X_train.reshape(-1, IMG_SIZE, IMG_SIZE, 3) / 255\n",
    "X_test_nn = X_test.reshape(-1, IMG_SIZE, IMG_SIZE, 3) / 255"
   ]
  }
 ],
 "metadata": {
  "interpreter": {
   "hash": "aee8b7b246df8f9039afb4144a1f6fd8d2ca17a180786b69acc140d282b71a49"
  },
  "kernelspec": {
   "display_name": "Python 3.10.1 64-bit",
   "language": "python",
   "name": "python3"
  },
  "language_info": {
   "codemirror_mode": {
    "name": "ipython",
    "version": 3
   },
   "file_extension": ".py",
   "mimetype": "text/x-python",
   "name": "python",
   "nbconvert_exporter": "python",
   "pygments_lexer": "ipython3",
   "version": "3.10.1"
  },
  "orig_nbformat": 4
 },
 "nbformat": 4,
 "nbformat_minor": 2
}
